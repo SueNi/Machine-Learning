{
 "cells": [
  {
   "cell_type": "code",
   "execution_count": 38,
   "metadata": {},
   "outputs": [
    {
     "name": "stdout",
     "output_type": "stream",
     "text": [
      "Robot one has 100 health and  5 damage\n",
      "Robot one attacks Robot two\n",
      "Robot two has  95 health and  5 damage\n",
      "Robot two heals itself\n",
      "Robot one has 100 health and  5 damage\n",
      "Robot one heals itself\n",
      "Robot two has 105 health and  5 damage\n",
      "Robot two heals itself\n",
      "Robot one has 110 health and  5 damage\n",
      "Robot one attacks Robot two\n",
      "Robot two has 110 health and  5 damage\n",
      "Robot two heals itself\n",
      "Robot one has 110 health and  5 damage\n",
      "Robot one heals itself\n",
      "Robot two has 120 health and  5 damage\n",
      "Robot two heals itself\n",
      "Robot one has 120 health and  5 damage\n",
      "Robot one heals itself\n",
      "Robot two has 130 health and  5 damage\n",
      "Robot two got some power up\n",
      "Robot one has 130 health and  5 damage\n",
      "Robot one heals itself\n",
      "Robot two has 130 health and 10 damage\n",
      "Robot two got some power up\n",
      "Robot one has 140 health and  5 damage\n",
      "Robot one heals itself\n",
      "Robot two has 130 health and 15 damage\n",
      "Robot two heals itself\n",
      "Robot one has 150 health and  5 damage\n",
      "Robot one got some power up\n",
      "Robot two has 140 health and 15 damage\n",
      "Robot two heals itself\n",
      "Robot one has 150 health and 10 damage\n",
      "Robot one attacks Robot two\n",
      "Robot two has 140 health and 15 damage\n",
      "Robot two heals itself\n",
      "Robot one has 150 health and 10 damage\n",
      "Robot one got some power up\n",
      "Robot two has 150 health and 15 damage\n",
      "Robot two heals itself\n",
      "Robot one has 150 health and 15 damage\n",
      "Robot one heals itself\n",
      "Robot two has 160 health and 15 damage\n",
      "Robot two got some power up\n",
      "Robot one has 160 health and 15 damage\n",
      "Robot one got some power up\n",
      "Robot two has 160 health and 20 damage\n",
      "Robot two attacks Robot one\n",
      "Robot one has 140 health and 20 damage\n",
      "Robot one attacks Robot two\n",
      "Robot two has 140 health and 20 damage\n",
      "Robot two attacks Robot one\n",
      "Robot one has 120 health and 20 damage\n",
      "Robot one heals itself\n",
      "Robot two has 140 health and 20 damage\n",
      "Robot two got some power up\n",
      "Robot one has 130 health and 20 damage\n",
      "Robot one heals itself\n",
      "Robot two has 140 health and 25 damage\n",
      "Robot two got some power up\n",
      "Robot one has 140 health and 20 damage\n",
      "Robot one attacks Robot two\n",
      "Robot two has 120 health and 30 damage\n",
      "Robot two attacks Robot one\n",
      "Robot one has 110 health and 20 damage\n",
      "Robot one heals itself\n",
      "Robot two has 120 health and 30 damage\n",
      "Robot two attacks Robot one\n",
      "Robot one has  90 health and 20 damage\n",
      "Robot one attacks Robot two\n",
      "Robot two has 100 health and 30 damage\n",
      "Robot two attacks Robot one\n",
      "Robot one has  60 health and 20 damage\n",
      "Robot one heals itself\n",
      "Robot two has 100 health and 30 damage\n",
      "Robot two attacks Robot one\n",
      "Robot one has  40 health and 20 damage\n",
      "Robot one got some power up\n",
      "Robot two has 100 health and 30 damage\n",
      "Robot two heals itself\n",
      "Robot one has  40 health and 25 damage\n",
      "Robot one heals itself\n",
      "Robot two has 110 health and 30 damage\n",
      "Robot two got some power up\n",
      "Robot one has  50 health and 25 damage\n",
      "Robot one got some power up\n",
      "Robot two has 110 health and 35 damage\n",
      "Robot two attacks Robot one\n",
      "Robot one has  15 health and 30 damage\n",
      "Robot one heals itself\n",
      "Robot two has 110 health and 35 damage\n",
      "Robot two got some power up\n",
      "Robot one has  25 health and 30 damage\n",
      "Robot one attacks Robot two\n",
      "Robot two has  80 health and 40 damage\n",
      "Robot two attacks Robot one\n",
      "Robot one is dead\n"
     ]
    }
   ],
   "source": [
    "import random\n",
    "class bot:\n",
    "    def __init__(self, name):\n",
    "        self.damage = 5\n",
    "        self.health = 100\n",
    "        self.name = name\n",
    "    \n",
    "    def attack(self, target):\n",
    "        target.health -= self.damage\n",
    "        print(\"Robot\", self.name, \"attacks Robot\", target.name)\n",
    "        if(target.health <= 0):\n",
    "            print(\"Robot\", target.name, \"is dead\")\n",
    "    \n",
    "    def alive(self):\n",
    "        if (self.health <= 0):\n",
    "            return False\n",
    "        else:\n",
    "            return True\n",
    "    \n",
    "    def heal(self):\n",
    "        self.health += 10\n",
    "        print(\"Robot\", self.name, \"heals itself\")\n",
    "        \n",
    "    def choice(self, opp):\n",
    "        choice = random.randint(1, 3)\n",
    "        if(choice == 1):\n",
    "            self.heal()\n",
    "        elif(choice ==2):\n",
    "            self.attack(opp)\n",
    "        else:\n",
    "            self.up()\n",
    "            \n",
    "    def up(self):\n",
    "        self.damage += 5\n",
    "        print(\"Robot\", self.name, \"got some power up\")\n",
    "        \n",
    "    def toString(self):\n",
    "        if (self.health < 0):\n",
    "            self.health = 0;\n",
    "        else:\n",
    "            #print(\"Robot\", self.name, \"has\", self.health, \"health and\", self.damage, \"damage\" )\n",
    "            print(\"Robot {:3s} has {:3d} health and {:2d} damage\".format(self.name, self.health, self.damage) )\n",
    "        \n",
    "        \n",
    "r1=bot(\"one\")\n",
    "r2 = bot(\"two\")\n",
    "while r1.alive() and r2.alive():\n",
    "    r1.toString()\n",
    "    r1.choice(r2)\n",
    "    r2.toString()\n",
    "    if(r2.alive()):\n",
    "        r2.choice(r1)\n",
    "    "
   ]
  },
  {
   "cell_type": "code",
   "execution_count": 42,
   "metadata": {},
   "outputs": [
    {
     "name": "stdout",
     "output_type": "stream",
     "text": [
      "28\n"
     ]
    }
   ],
   "source": [
    "import numpy as np\n",
    "a = np.array([1,2,3])\n",
    "b = np.array([2,4,6])\n",
    "print(a.dot(b))"
   ]
  },
  {
   "cell_type": "code",
   "execution_count": 54,
   "metadata": {
    "scrolled": true
   },
   "outputs": [
    {
     "data": {
      "image/png": "[encoded data removed]",
      "text/plain": [
       "<Figure size 432x288 with 1 Axes>"
      ]
     },
     "metadata": {
      "needs_background": "light"
     },
     "output_type": "display_data"
    }
   ],
   "source": [
    "import random\n",
    "import matplotlib.pyplot as plt\n",
    "y = [random.random() for i in range (100)]\n",
    "x = [i for i in range(100)]\n",
    "plt.scatter(x,y)\n",
    "plt.show()"
   ]
  },
  {
   "cell_type": "code",
   "execution_count": 1,
   "metadata": {},
   "outputs": [],
   "source": [
    "import tensorflow as tf"
   ]
  },
  {
   "cell_type": "code",
   "execution_count": null,
   "metadata": {},
   "outputs": [],
   "source": []
  }
 ],
 "metadata": {
  "kernelspec": {
   "display_name": "Python 3",
   "language": "python",
   "name": "python3"
  },
  "language_info": {
   "codemirror_mode": {
    "name": "ipython",
    "version": 3
   },
   "file_extension": ".py",
   "mimetype": "text/x-python",
   "name": "python",
   "nbconvert_exporter": "python",
   "pygments_lexer": "ipython3",
   "version": "3.6.8"
  }
 },
 "nbformat": 4,
 "nbformat_minor": 2
}
