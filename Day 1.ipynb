{
 "cells": [
  {
   "cell_type": "code",
   "execution_count": 1,
   "metadata": {
    "scrolled": true
   },
   "outputs": [
    {
     "name": "stdout",
     "output_type": "stream",
     "text": [
      "You said True\n",
      "you said True\n",
      "I like egg for breakfast\n"
     ]
    }
   ],
   "source": [
    "a = 'hello'\n",
    "a = True\n",
    "print('You said',a)\n",
    "print('you said ' +str(a))\n",
    "print(\"I like {} for breakfast\".format(\"egg\"))"
   ]
  },
  {
   "cell_type": "code",
   "execution_count": 2,
   "metadata": {},
   "outputs": [
    {
     "name": "stdout",
     "output_type": "stream",
     "text": [
      "1\n",
      "True\n"
     ]
    }
   ],
   "source": [
    "a = {\"one\":1}\n",
    "print(a[\"one\"])\n",
    "print(type(a) == dict)"
   ]
  },
  {
   "cell_type": "code",
   "execution_count": 3,
   "metadata": {},
   "outputs": [
    {
     "name": "stdout",
     "output_type": "stream",
     "text": [
      "True\n"
     ]
    }
   ],
   "source": [
    "a = [1, 2, 3, 4]\n",
    "print(type(a) == list)"
   ]
  },
  {
   "cell_type": "code",
   "execution_count": 4,
   "metadata": {},
   "outputs": [
    {
     "name": "stdout",
     "output_type": "stream",
     "text": [
      "1\n",
      "0.03193549716081945\n",
      "67\n"
     ]
    }
   ],
   "source": [
    "import random\n",
    "a = random.randint(1, 6)\n",
    "b = random.random()\n",
    "c = random.randrange(100)\n",
    "print(a)\n",
    "print(b)\n",
    "print(c)"
   ]
  },
  {
   "cell_type": "code",
   "execution_count": null,
   "metadata": {},
   "outputs": [],
   "source": [
    "import random\n",
    "choice = int(input(\"choose level 1, 2, or 3\"))\n",
    "if (choice == 1):\n",
    "    num = random.randint(1, 10)\n",
    "    print(\"guess a number between 1 and 10\")\n",
    "elif (choice == 2):\n",
    "    num = random.randint(1, 50)\n",
    "    print(\"guess a number between 1 and 50\")\n",
    "elif (choice == 3):\n",
    "    num = random.randint(1, 100)\n",
    "    print(\"guess a number between 1 and 100\")\n",
    "\n",
    "while True:\n",
    "    guess = int(input())\n",
    "    if (guess > num):\n",
    "        print(\"lower\")\n",
    "    elif (guess < num):\n",
    "        print(\"higher\")\n",
    "    else:\n",
    "        print(\"right\")\n",
    "        break"
   ]
  },
  {
   "cell_type": "code",
   "execution_count": 2,
   "metadata": {},
   "outputs": [
    {
     "name": "stdout",
     "output_type": "stream",
     "text": [
      "0\n",
      "1\n",
      "4\n",
      "9\n",
      "16\n",
      "25\n",
      "36\n",
      "49\n",
      "64\n",
      "81\n"
     ]
    }
   ],
   "source": [
    "a = [0,0,0,0,0]\n",
    "num = 1\n",
    "for i in range(5):\n",
    "    a[i] = num\n",
    "    num +=1\n",
    "l = [i**2 for i in range(10)]    \n",
    "for i in l:\n",
    "    print(i)"
   ]
  },
  {
   "cell_type": "code",
   "execution_count": 8,
   "metadata": {},
   "outputs": [
    {
     "name": "stdout",
     "output_type": "stream",
     "text": [
      "4.2184800000000006e+17\n"
     ]
    }
   ],
   "source": [
    "a = [1.2,7,27,4,93,6*10**12]\n",
    "pro = 1\n",
    "for i in a:\n",
    "    pro *= i\n",
    "print(pro/min(a))"
   ]
  },
  {
   "cell_type": "code",
   "execution_count": 11,
   "metadata": {},
   "outputs": [
    {
     "name": "stdout",
     "output_type": "stream",
     "text": [
      "hello world 4\n"
     ]
    }
   ],
   "source": [
    "def hello(ins):\n",
    "    print(\"hello world\", ins)\n",
    "hello(4)    "
   ]
  },
  {
   "cell_type": "code",
   "execution_count": null,
   "metadata": {},
   "outputs": [],
   "source": []
  }
 ],
 "metadata": {
  "kernelspec": {
   "display_name": "Python 3",
   "language": "python",
   "name": "python3"
  },
  "language_info": {
   "codemirror_mode": {
    "name": "ipython",
    "version": 3
   },
   "file_extension": ".py",
   "mimetype": "text/x-python",
   "name": "python",
   "nbconvert_exporter": "python",
   "pygments_lexer": "ipython3",
   "version": "3.7.1"
  }
 },
 "nbformat": 4,
 "nbformat_minor": 2
}
